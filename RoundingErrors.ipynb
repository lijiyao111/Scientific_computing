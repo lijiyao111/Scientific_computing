{
 "cells": [
  {
   "cell_type": "code",
   "execution_count": 1,
   "metadata": {
    "collapsed": true
   },
   "outputs": [],
   "source": [
    "import numpy as np"
   ]
  },
  {
   "cell_type": "markdown",
   "metadata": {},
   "source": [
    "# Accumulating of rouding errors\n",
    "accurately calculate $$\\sum \\frac{1}{n^4} = \\frac{\\pi^4}{90}$$\n",
    "calculate from $i=1$ to $i=M$, to determine $M$:\n",
    "$$\n",
    "\\int_M^{\\infty} \\frac{1}{x^4} dx =\\varepsilon\n",
    "$$\n",
    "get\n",
    "$$\n",
    "M=\\frac{1}{\\sqrt[\\leftroot{-2}\\uproot{2}3]{3\\varepsilon}}\n",
    "$$\n",
    "\n",
    "The trick is to calculate backwards, from $i=M$ to $i=1$. Don't do $i=1$ to $i=M$."
   ]
  },
  {
   "cell_type": "code",
   "execution_count": 2,
   "metadata": {
    "collapsed": false
   },
   "outputs": [
    {
     "name": "stdout",
     "output_type": "stream",
     "text": [
      "2.22044604925e-16\n",
      "114501.938674\n"
     ]
    }
   ],
   "source": [
    "EPS=np.finfo(float).eps\n",
    "print(EPS)\n",
    "\n",
    "print((1/EPS/3)**(1/3))"
   ]
  },
  {
   "cell_type": "code",
   "execution_count": 3,
   "metadata": {
    "collapsed": false
   },
   "outputs": [
    {
     "name": "stdout",
     "output_type": "stream",
     "text": [
      "1.082323233710861\n",
      "2.7688962234151404e-13\n",
      "1.082323233711138\n",
      "0.0\n"
     ]
    }
   ],
   "source": [
    "M=114501 # calcumate series from i=1 to i=M\n",
    "\n",
    "sum1=0.0\n",
    "sum2=0.0\n",
    "\n",
    "# forward\n",
    "for i in range(1,int(M)+1):\n",
    "#     print(i)\n",
    "    sum1 += 1.0/(i**4)\n",
    "    \n",
    "# backward\n",
    "for i in range(int(M),0,-1):\n",
    "#     print('******',i)\n",
    "    sum2 += 1.0/(i**4)\n",
    "    \n",
    "print(sum1)\n",
    "print(np.pi**4/90.-sum1)\n",
    "\n",
    "print(sum2)\n",
    "print(np.pi**4/90.-sum2)"
   ]
  },
  {
   "cell_type": "markdown",
   "metadata": {},
   "source": [
    "# representing float number in machine\n",
    "\n",
    "$$\n",
    "Real=(1.F+\\varepsilon)\\times b^{E}\\\\\n",
    "Numerical=(1.F)\\times b^{E} \\\\\n",
    "N=R+\\varepsilon\\times b^{E}=R(1+\\frac{\\varepsilon}{1.F + \\varepsilon})\\approx R(1+\\varepsilon) \n",
    "\\quad \\because \\frac{1}{2}< \\frac{1}{1.F + \\varepsilon} \\leq 1\n",
    "$$\n",
    "Because of rounding method, it does not matter whether $+\\varepsilon$ or $-\\varepsilon$. $b=2$."
   ]
  },
  {
   "cell_type": "code",
   "execution_count": 4,
   "metadata": {
    "collapsed": false
   },
   "outputs": [
    {
     "name": "stdout",
     "output_type": "stream",
     "text": [
      "1.7763568394002505e-15\n"
     ]
    }
   ],
   "source": [
    "M=1\n",
    "a=8\n",
    "\n",
    "while(a + M !=a ):\n",
    "    M /=2\n",
    "    \n",
    "print(M*2)"
   ]
  },
  {
   "cell_type": "markdown",
   "metadata": {},
   "source": [
    "# Optimal $\\Delta x$ for derivative computing\n",
    "$$\n",
    "real =\\frac{dy}{dx} = \\frac{y(x+\\Delta x)-y(x)}{\\Delta x} + O(\\Delta x) \\\\\n",
    "num=\\frac{(y(x+\\Delta x)(1+\\varepsilon)-y(x)(1+\\varepsilon))(1+\\varepsilon)}{\\Delta x}\\\\\n",
    "= \\frac{(y(x+\\Delta x)-y(x))(1+\\varepsilon)^2}{\\Delta x} \\\\\n",
    "= \\frac{(y(x+\\Delta x)-y(x))(1+2\\varepsilon)}{\\Delta x} \\\\\n",
    "err(\\Delta x) =real - num = \\frac{(y(x+\\Delta x)-y(x))(2\\varepsilon)}{\\Delta x}  +\\Delta x\n",
    "$$\n",
    "from $\\frac{d err(\\Delta x)}{d \\Delta x}=0$ get $(\\Delta x)^2 \\approx 2 \\varepsilon$, assuming $y(x) \\approx 1$"
   ]
  },
  {
   "cell_type": "code",
   "execution_count": 5,
   "metadata": {
    "collapsed": false
   },
   "outputs": [
    {
     "name": "stdout",
     "output_type": "stream",
     "text": [
      "dx  Error\n",
      "1e-16 -2.0\n",
      "1e-15 0.22044604925031308\n",
      "1e-14 -0.0015985556747182272\n",
      "1e-13 -0.0015985556747182272\n",
      "1e-12 0.00017780116468202323\n",
      "1e-11 1.6548074199818075e-07\n",
      "1e-10 1.6548074199818075e-07\n",
      "1e-09 1.6548074199818075e-07\n",
      "1e-08 -1.21549419418443e-08\n",
      "1e-07 1.0108780656992167e-07\n",
      "1e-06 9.999243673064484e-07\n",
      "1e-05 1.0000013929811757e-05\n",
      "0.0001 9.999999917198465e-05\n",
      "0.001 0.0009999999996974651\n",
      "0.01 0.010000000000000675\n",
      "0.1 0.10000000000000187\n",
      "1 1.0\n"
     ]
    }
   ],
   "source": [
    "def fx(x):\n",
    "    return x**2\n",
    "\n",
    "x=1\n",
    "dx=[1e-16,1e-15,1e-14,1e-13,1e-12,1e-11,1e-10,1e-9,\n",
    "   1e-8,1e-7,1e-6,1e-5,1e-4,1e-3,1e-2,1e-1,1]\n",
    "\n",
    "print('dx  Error')\n",
    "for ddx in dx:\n",
    "    num=(fx(x+ddx)-fx(x))/ddx\n",
    "    ana=2*x\n",
    "    print(ddx,num-ana)\n",
    "\n"
   ]
  }
 ],
 "metadata": {
  "kernelspec": {
   "display_name": "Python 3",
   "language": "python",
   "name": "python3"
  },
  "language_info": {
   "codemirror_mode": {
    "name": "ipython",
    "version": 3
   },
   "file_extension": ".py",
   "mimetype": "text/x-python",
   "name": "python",
   "nbconvert_exporter": "python",
   "pygments_lexer": "ipython3",
   "version": "3.5.1"
  },
  "latex_envs": {
   "bibliofile": "biblio.bib",
   "cite_by": "apalike",
   "current_citInitial": 1,
   "eqLabelWithNumbers": true,
   "eqNumInitial": 0
  }
 },
 "nbformat": 4,
 "nbformat_minor": 0
}
